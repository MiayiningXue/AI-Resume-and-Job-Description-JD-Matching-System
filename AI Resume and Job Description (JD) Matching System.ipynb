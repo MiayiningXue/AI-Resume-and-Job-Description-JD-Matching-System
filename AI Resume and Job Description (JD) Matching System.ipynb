{
 "cells": [
  {
   "cell_type": "code",
   "execution_count": 3,
   "id": "2285b432-925c-4f61-ac0e-df4fa9d48ecc",
   "metadata": {},
   "outputs": [],
   "source": [
    "import numpy as np\n",
    "import pandas as pd\n",
    "import matplotlib.pyplot as plt\n",
    "from sklearn.feature_extraction.text import TfidfVectorizer\n",
    "from sklearn.metrics.pairwise import cosine_similarity"
   ]
  },
  {
   "cell_type": "code",
   "execution_count": 4,
   "id": "a49070aa-238b-477b-9161-dd3dcd02ac30",
   "metadata": {},
   "outputs": [],
   "source": [
    "path = '/Users/xueyining/Downloads/UpdatedResumeDataSet.csv'\n",
    "\n",
    "df = pd.read_csv(path, encoding='utf-8-sig')"
   ]
  },
  {
   "cell_type": "code",
   "execution_count": 8,
   "id": "83b510c0-1fd3-41a3-b490-3b9f2cb937f1",
   "metadata": {},
   "outputs": [
    {
     "data": {
      "text/html": [
       "<div>\n",
       "<style scoped>\n",
       "    .dataframe tbody tr th:only-of-type {\n",
       "        vertical-align: middle;\n",
       "    }\n",
       "\n",
       "    .dataframe tbody tr th {\n",
       "        vertical-align: top;\n",
       "    }\n",
       "\n",
       "    .dataframe thead th {\n",
       "        text-align: right;\n",
       "    }\n",
       "</style>\n",
       "<table border=\"1\" class=\"dataframe\">\n",
       "  <thead>\n",
       "    <tr style=\"text-align: right;\">\n",
       "      <th></th>\n",
       "      <th>Category</th>\n",
       "      <th>Resume</th>\n",
       "    </tr>\n",
       "  </thead>\n",
       "  <tbody>\n",
       "    <tr>\n",
       "      <th>0</th>\n",
       "      <td>Data Science</td>\n",
       "      <td>Skills * Programming Languages: Python (pandas...</td>\n",
       "    </tr>\n",
       "    <tr>\n",
       "      <th>1</th>\n",
       "      <td>Data Science</td>\n",
       "      <td>Education Details \\r\\nMay 2013 to May 2017 B.E...</td>\n",
       "    </tr>\n",
       "    <tr>\n",
       "      <th>2</th>\n",
       "      <td>Data Science</td>\n",
       "      <td>Areas of Interest Deep Learning, Control Syste...</td>\n",
       "    </tr>\n",
       "    <tr>\n",
       "      <th>3</th>\n",
       "      <td>Data Science</td>\n",
       "      <td>Skills â¢ R â¢ Python â¢ SAP HANA â¢ Table...</td>\n",
       "    </tr>\n",
       "    <tr>\n",
       "      <th>4</th>\n",
       "      <td>Data Science</td>\n",
       "      <td>Education Details \\r\\n MCA   YMCAUST,  Faridab...</td>\n",
       "    </tr>\n",
       "  </tbody>\n",
       "</table>\n",
       "</div>"
      ],
      "text/plain": [
       "       Category                                             Resume\n",
       "0  Data Science  Skills * Programming Languages: Python (pandas...\n",
       "1  Data Science  Education Details \\r\\nMay 2013 to May 2017 B.E...\n",
       "2  Data Science  Areas of Interest Deep Learning, Control Syste...\n",
       "3  Data Science  Skills â¢ R â¢ Python â¢ SAP HANA â¢ Table...\n",
       "4  Data Science  Education Details \\r\\n MCA   YMCAUST,  Faridab..."
      ]
     },
     "execution_count": 8,
     "metadata": {},
     "output_type": "execute_result"
    }
   ],
   "source": [
    "df.head()"
   ]
  },
  {
   "cell_type": "code",
   "execution_count": 10,
   "id": "5007eae2-969e-4654-b70f-bb758d58b59c",
   "metadata": {},
   "outputs": [
    {
     "data": {
      "text/plain": [
       "962"
      ]
     },
     "execution_count": 10,
     "metadata": {},
     "output_type": "execute_result"
    }
   ],
   "source": [
    "df.shape[0]"
   ]
  },
  {
   "cell_type": "code",
   "execution_count": 12,
   "id": "c3a9c5eb-e6ef-49ab-8bea-8126b2171864",
   "metadata": {},
   "outputs": [
    {
     "data": {
      "text/plain": [
       "Category     25\n",
       "Resume      166\n",
       "dtype: int64"
      ]
     },
     "execution_count": 12,
     "metadata": {},
     "output_type": "execute_result"
    }
   ],
   "source": [
    "df.nunique()"
   ]
  },
  {
   "cell_type": "code",
   "execution_count": 14,
   "id": "8cb10acc-e078-46d2-a4f3-3826dda012c3",
   "metadata": {},
   "outputs": [
    {
     "data": {
      "text/plain": [
       "Category    0\n",
       "Resume      0\n",
       "dtype: int64"
      ]
     },
     "execution_count": 14,
     "metadata": {},
     "output_type": "execute_result"
    }
   ],
   "source": [
    "missing_count = df.isnull().sum()\n",
    "missing_count"
   ]
  },
  {
   "cell_type": "markdown",
   "id": "b774bca6-591f-4285-a2ec-892b6c498648",
   "metadata": {},
   "source": [
    "# First, we use TfidfVectorizer to create a shared vocabulary and vector space based on all resumes. Then, we transform the Resume column into TF-IDF vectors, capturing the importance of each term within the context of the entire dataset.\n",
    "# Next, we transform the job description (JD) into the same TF-IDF space using the fitted vectorizer. This ensures the JD and resumes are represented in a consistent feature space, which prepares them for cosine similarity calculation in the next step."
   ]
  },
  {
   "cell_type": "code",
   "execution_count": 17,
   "id": "6b506e24-b96e-4ff9-8261-04791cf25b01",
   "metadata": {},
   "outputs": [],
   "source": [
    "job_description = \"\"\"\n",
    "This is a full-time remote role for a Data & Analytics Manager. You’ll be responsible for owning end-to-end data systems—from ingestion and integration to dashboarding and insights generation. You’ll partner closely with both internal performance marketers and client leads to surface trends, improve campaign ROI, and help shape our data infrastructure as we grow.\n",
    "\n",
    "Key Responsibilities\n",
    "1. Data Management & Integration\n",
    "Streamline and standardize data collection across Amazon, Walmart, Instacart, and other retail platforms\n",
    "Maintain data accuracy, consistency, and security across all internal and external-facing systems\n",
    "Create and document best practices for ingesting, structuring, and storing marketing and retail data\n",
    "2. Reporting & Dashboard Development\n",
    "Build and automate dashboards to track campaign performance and KPIs\n",
    "Own weekly reporting for clients—highlighting trends, anomalies, and opportunities\n",
    "Customize reporting structures to fit each client’s objectives and channel mix\n",
    "3. Campaign Optimization Support\n",
    "Collaborate with the Performance team to monitor live campaigns and identify optimization levers\n",
    "Support creative, targeting, and bidding experiments with rigorous tracking and analysis\n",
    "Report impact of optimizations clearly to both internal stakeholders and clients\n",
    "4. Data Analysis & Insights\n",
    "Analyze large, multi-platform datasets to identify growth drivers and performance patterns\n",
    "Translate raw data into clear, actionable recommendations\n",
    "Present insights in a concise, strategic format to inform client strategy\n",
    "5. Collaboration & Process Improvement\n",
    "Work closely with cross-functional partners to align on campaign goals and data needs\n",
    "Suggest and implement process improvements to streamline reporting and analysis\n",
    "Help train team members on tools, dashboards, and best practices for data use\n",
    "\n",
    "Qualifications\n",
    "2–4 years of experience in data analysis, performance reporting, or marketing analytics\n",
    "Strong fluency in Excel, SQL, and data visualization tools (e.g., Looker, Tableau, Power BI)\n",
    "Familiarity with eCommerce/retail media platforms like Amazon Ads, Walmart Connect, Instacart Ads\n",
    "Comfortable working with large datasets, drawing insights, and presenting to stakeholders\n",
    "Clear communicator who thrives in a fast-paced, remote-first environment\n",
    "Bonus: experience in CPG, ad tech, or retail media agencies\n",
    "\"\"\"\n",
    "\n",
    "vectorizer = TfidfVectorizer(stop_words='english')\n",
    "resume_tfidf = vectorizer.fit_transform(df['Resume'])  \n",
    "jd_tfidf = vectorizer.transform([job_description])  "
   ]
  },
  {
   "cell_type": "markdown",
   "id": "1f3d443e-c898-48df-8582-21dbb8a13878",
   "metadata": {},
   "source": [
    "# The difference between fit_transform and transform is:\n",
    "# fit_transform is used the first time to train the model. It builds a vector space based on the given dataset (e.g., all resumes).\n",
    "# transform is used to convert new input (e.g., a job description) into that same vector space,\n",
    "# so we can measure its similarity against the existing data. "
   ]
  },
  {
   "cell_type": "code",
   "execution_count": 20,
   "id": "145b3127-8864-4aeb-8d07-76ef80606e3f",
   "metadata": {},
   "outputs": [],
   "source": [
    "from sklearn.metrics.pairwise import cosine_similarity\n",
    "\n",
    "similarity_scores = cosine_similarity(jd_tfidf, resume_tfidf).flatten()"
   ]
  },
  {
   "cell_type": "code",
   "execution_count": 22,
   "id": "dec0f578-bf8a-49e3-a49b-6b4e3e89dd8d",
   "metadata": {},
   "outputs": [
    {
     "data": {
      "text/html": [
       "<div>\n",
       "<style scoped>\n",
       "    .dataframe tbody tr th:only-of-type {\n",
       "        vertical-align: middle;\n",
       "    }\n",
       "\n",
       "    .dataframe tbody tr th {\n",
       "        vertical-align: top;\n",
       "    }\n",
       "\n",
       "    .dataframe thead th {\n",
       "        text-align: right;\n",
       "    }\n",
       "</style>\n",
       "<table border=\"1\" class=\"dataframe\">\n",
       "  <thead>\n",
       "    <tr style=\"text-align: right;\">\n",
       "      <th></th>\n",
       "      <th>Category</th>\n",
       "      <th>MatchScore</th>\n",
       "      <th>Resume</th>\n",
       "    </tr>\n",
       "  </thead>\n",
       "  <tbody>\n",
       "    <tr>\n",
       "      <th>33</th>\n",
       "      <td>Data Science</td>\n",
       "      <td>0.210038</td>\n",
       "      <td>Skills â¢ R â¢ Python â¢ SAP HANA â¢ Table...</td>\n",
       "    </tr>\n",
       "    <tr>\n",
       "      <th>3</th>\n",
       "      <td>Data Science</td>\n",
       "      <td>0.210038</td>\n",
       "      <td>Skills â¢ R â¢ Python â¢ SAP HANA â¢ Table...</td>\n",
       "    </tr>\n",
       "    <tr>\n",
       "      <th>23</th>\n",
       "      <td>Data Science</td>\n",
       "      <td>0.210038</td>\n",
       "      <td>Skills â¢ R â¢ Python â¢ SAP HANA â¢ Table...</td>\n",
       "    </tr>\n",
       "    <tr>\n",
       "      <th>13</th>\n",
       "      <td>Data Science</td>\n",
       "      <td>0.210038</td>\n",
       "      <td>Skills â¢ R â¢ Python â¢ SAP HANA â¢ Table...</td>\n",
       "    </tr>\n",
       "    <tr>\n",
       "      <th>29</th>\n",
       "      <td>Data Science</td>\n",
       "      <td>0.205689</td>\n",
       "      <td>Expertise â Data and Quantitative Analysis â...</td>\n",
       "    </tr>\n",
       "    <tr>\n",
       "      <th>19</th>\n",
       "      <td>Data Science</td>\n",
       "      <td>0.205689</td>\n",
       "      <td>Expertise â Data and Quantitative Analysis â...</td>\n",
       "    </tr>\n",
       "    <tr>\n",
       "      <th>39</th>\n",
       "      <td>Data Science</td>\n",
       "      <td>0.205689</td>\n",
       "      <td>Expertise â Data and Quantitative Analysis â...</td>\n",
       "    </tr>\n",
       "    <tr>\n",
       "      <th>9</th>\n",
       "      <td>Data Science</td>\n",
       "      <td>0.205689</td>\n",
       "      <td>Expertise â Data and Quantitative Analysis â...</td>\n",
       "    </tr>\n",
       "    <tr>\n",
       "      <th>685</th>\n",
       "      <td>PMO</td>\n",
       "      <td>0.189534</td>\n",
       "      <td>CORE COMPETENCIES â¢ Maintain processes to en...</td>\n",
       "    </tr>\n",
       "    <tr>\n",
       "      <th>703</th>\n",
       "      <td>PMO</td>\n",
       "      <td>0.189534</td>\n",
       "      <td>CORE COMPETENCIES â¢ Maintain processes to en...</td>\n",
       "    </tr>\n",
       "  </tbody>\n",
       "</table>\n",
       "</div>"
      ],
      "text/plain": [
       "         Category  MatchScore  \\\n",
       "33   Data Science    0.210038   \n",
       "3    Data Science    0.210038   \n",
       "23   Data Science    0.210038   \n",
       "13   Data Science    0.210038   \n",
       "29   Data Science    0.205689   \n",
       "19   Data Science    0.205689   \n",
       "39   Data Science    0.205689   \n",
       "9    Data Science    0.205689   \n",
       "685           PMO    0.189534   \n",
       "703           PMO    0.189534   \n",
       "\n",
       "                                                Resume  \n",
       "33   Skills â¢ R â¢ Python â¢ SAP HANA â¢ Table...  \n",
       "3    Skills â¢ R â¢ Python â¢ SAP HANA â¢ Table...  \n",
       "23   Skills â¢ R â¢ Python â¢ SAP HANA â¢ Table...  \n",
       "13   Skills â¢ R â¢ Python â¢ SAP HANA â¢ Table...  \n",
       "29   Expertise â Data and Quantitative Analysis â...  \n",
       "19   Expertise â Data and Quantitative Analysis â...  \n",
       "39   Expertise â Data and Quantitative Analysis â...  \n",
       "9    Expertise â Data and Quantitative Analysis â...  \n",
       "685  CORE COMPETENCIES â¢ Maintain processes to en...  \n",
       "703  CORE COMPETENCIES â¢ Maintain processes to en...  "
      ]
     },
     "execution_count": 22,
     "metadata": {},
     "output_type": "execute_result"
    }
   ],
   "source": [
    "df['MatchScore'] = similarity_scores\n",
    "top_matches = df.sort_values(by='MatchScore', ascending=False).head(10)\n",
    "\n",
    "\n",
    "top_matches[['Category', 'MatchScore', 'Resume']].head(10)"
   ]
  },
  {
   "cell_type": "code",
   "execution_count": 24,
   "id": "76a9c456-a91b-4cc5-8dca-bc70410fcfca",
   "metadata": {},
   "outputs": [
    {
     "data": {
      "image/png": "[encoded data removed]",
      "text/plain": [
       "<Figure size 800x500 with 1 Axes>"
      ]
     },
     "metadata": {},
     "output_type": "display_data"
    }
   ],
   "source": [
    "plt.figure(figsize=(8, 5))\n",
    "plt.hist(df['MatchScore'], bins=30, color='skyblue', edgecolor='black')\n",
    "plt.title(\"Distribution of Resume Match Scores\")\n",
    "plt.xlabel(\"Match Score\")\n",
    "plt.ylabel(\"Number of Resumes\")\n",
    "plt.grid(True)\n",
    "plt.show()"
   ]
  },
  {
   "cell_type": "markdown",
   "id": "45e82ea4-0746-4139-957b-09422a5f3624",
   "metadata": {},
   "source": [
    "# The TF-IDF method is a traditional NLP technique that detects text similarity\n",
    "# based on term frequency in a shared vector space, without understanding semantics.\n",
    "\n",
    "# Now we apply the BERT-based method to identify the most relevant resumes.\n",
    "\n",
    "# The key difference: TF-IDF relies on word matching and frequency statistics,\n",
    "# while BERT captures the actual meaning of text by generating semantic embeddings."
   ]
  },
  {
   "cell_type": "code",
   "execution_count": 27,
   "id": "7e8f0f46-71e9-42ac-b3fe-db80ac46df3f",
   "metadata": {},
   "outputs": [],
   "source": [
    "# Install the package if not already installed\n",
    "# pip install -U sentence-transformers （install the package if not already installed）"
   ]
  },
  {
   "cell_type": "markdown",
   "id": "d121c687-6bc0-46d7-9c86-fa0341eeaf62",
   "metadata": {},
   "source": [
    "# Load pre-trained BERT model for sentence embeddings"
   ]
  },
  {
   "cell_type": "code",
   "execution_count": 29,
   "id": "3f597d5f-c361-471b-8002-373967cc7e09",
   "metadata": {},
   "outputs": [],
   "source": [
    "from sentence_transformers import SentenceTransformer, util\n",
    "\n",
    "BERT_model = SentenceTransformer('all-MiniLM-L6-v2')"
   ]
  },
  {
   "cell_type": "code",
   "execution_count": 35,
   "id": "8dbf9abf-fc69-43bb-af2e-67e3a218ef63",
   "metadata": {},
   "outputs": [],
   "source": [
    "# Encode resumes and job description into semantic vector space\n",
    "resume_embeddings = BERT_model.encode(df['Resume'].astype(str).tolist(), convert_to_tensor=True)\n",
    "jd_embedding = BERT_model.encode(job_description, convert_to_tensor=True)"
   ]
  },
  {
   "cell_type": "code",
   "execution_count": 36,
   "id": "c06005a2-546a-4aea-92a3-c0f162deece6",
   "metadata": {},
   "outputs": [],
   "source": [
    "# calculate the similarity score \n",
    "cos_scores = util.pytorch_cos_sim(jd_embedding, resume_embeddings)[0].cpu().numpy()"
   ]
  },
  {
   "cell_type": "code",
   "execution_count": 41,
   "id": "da894f72-9c7c-424e-a6ab-248ea24a03e5",
   "metadata": {},
   "outputs": [
    {
     "data": {
      "text/html": [
       "<div>\n",
       "<style scoped>\n",
       "    .dataframe tbody tr th:only-of-type {\n",
       "        vertical-align: middle;\n",
       "    }\n",
       "\n",
       "    .dataframe tbody tr th {\n",
       "        vertical-align: top;\n",
       "    }\n",
       "\n",
       "    .dataframe thead th {\n",
       "        text-align: right;\n",
       "    }\n",
       "</style>\n",
       "<table border=\"1\" class=\"dataframe\">\n",
       "  <thead>\n",
       "    <tr style=\"text-align: right;\">\n",
       "      <th></th>\n",
       "      <th>Category</th>\n",
       "      <th>Resume</th>\n",
       "      <th>MatchScore</th>\n",
       "    </tr>\n",
       "  </thead>\n",
       "  <tbody>\n",
       "    <tr>\n",
       "      <th>750</th>\n",
       "      <td>Hadoop</td>\n",
       "      <td>Skill Set: Hadoop, Map Reduce, HDFS, Hive, Sqo...</td>\n",
       "      <td>0.545414</td>\n",
       "    </tr>\n",
       "    <tr>\n",
       "      <th>778</th>\n",
       "      <td>Hadoop</td>\n",
       "      <td>Skill Set: Hadoop, Map Reduce, HDFS, Hive, Sqo...</td>\n",
       "      <td>0.545414</td>\n",
       "    </tr>\n",
       "    <tr>\n",
       "      <th>764</th>\n",
       "      <td>Hadoop</td>\n",
       "      <td>Skill Set: Hadoop, Map Reduce, HDFS, Hive, Sqo...</td>\n",
       "      <td>0.545414</td>\n",
       "    </tr>\n",
       "    <tr>\n",
       "      <th>743</th>\n",
       "      <td>Hadoop</td>\n",
       "      <td>Skill Set: Hadoop, Map Reduce, HDFS, Hive, Sqo...</td>\n",
       "      <td>0.545414</td>\n",
       "    </tr>\n",
       "    <tr>\n",
       "      <th>757</th>\n",
       "      <td>Hadoop</td>\n",
       "      <td>Skill Set: Hadoop, Map Reduce, HDFS, Hive, Sqo...</td>\n",
       "      <td>0.545414</td>\n",
       "    </tr>\n",
       "    <tr>\n",
       "      <th>771</th>\n",
       "      <td>Hadoop</td>\n",
       "      <td>Skill Set: Hadoop, Map Reduce, HDFS, Hive, Sqo...</td>\n",
       "      <td>0.545414</td>\n",
       "    </tr>\n",
       "    <tr>\n",
       "      <th>33</th>\n",
       "      <td>Data Science</td>\n",
       "      <td>Skills â¢ R â¢ Python â¢ SAP HANA â¢ Table...</td>\n",
       "      <td>0.524532</td>\n",
       "    </tr>\n",
       "    <tr>\n",
       "      <th>3</th>\n",
       "      <td>Data Science</td>\n",
       "      <td>Skills â¢ R â¢ Python â¢ SAP HANA â¢ Table...</td>\n",
       "      <td>0.524532</td>\n",
       "    </tr>\n",
       "    <tr>\n",
       "      <th>13</th>\n",
       "      <td>Data Science</td>\n",
       "      <td>Skills â¢ R â¢ Python â¢ SAP HANA â¢ Table...</td>\n",
       "      <td>0.524532</td>\n",
       "    </tr>\n",
       "    <tr>\n",
       "      <th>23</th>\n",
       "      <td>Data Science</td>\n",
       "      <td>Skills â¢ R â¢ Python â¢ SAP HANA â¢ Table...</td>\n",
       "      <td>0.524532</td>\n",
       "    </tr>\n",
       "  </tbody>\n",
       "</table>\n",
       "</div>"
      ],
      "text/plain": [
       "         Category                                             Resume  \\\n",
       "750        Hadoop  Skill Set: Hadoop, Map Reduce, HDFS, Hive, Sqo...   \n",
       "778        Hadoop  Skill Set: Hadoop, Map Reduce, HDFS, Hive, Sqo...   \n",
       "764        Hadoop  Skill Set: Hadoop, Map Reduce, HDFS, Hive, Sqo...   \n",
       "743        Hadoop  Skill Set: Hadoop, Map Reduce, HDFS, Hive, Sqo...   \n",
       "757        Hadoop  Skill Set: Hadoop, Map Reduce, HDFS, Hive, Sqo...   \n",
       "771        Hadoop  Skill Set: Hadoop, Map Reduce, HDFS, Hive, Sqo...   \n",
       "33   Data Science  Skills â¢ R â¢ Python â¢ SAP HANA â¢ Table...   \n",
       "3    Data Science  Skills â¢ R â¢ Python â¢ SAP HANA â¢ Table...   \n",
       "13   Data Science  Skills â¢ R â¢ Python â¢ SAP HANA â¢ Table...   \n",
       "23   Data Science  Skills â¢ R â¢ Python â¢ SAP HANA â¢ Table...   \n",
       "\n",
       "     MatchScore  \n",
       "750    0.545414  \n",
       "778    0.545414  \n",
       "764    0.545414  \n",
       "743    0.545414  \n",
       "757    0.545414  \n",
       "771    0.545414  \n",
       "33     0.524532  \n",
       "3      0.524532  \n",
       "13     0.524532  \n",
       "23     0.524532  "
      ]
     },
     "execution_count": 41,
     "metadata": {},
     "output_type": "execute_result"
    }
   ],
   "source": [
    "# display the top 10 resumes in the dataset\n",
    "df['MatchScore'] = cos_scores\n",
    "top_matches = df.sort_values(by='MatchScore', ascending=False).head(10)\n",
    "top_matches"
   ]
  },
  {
   "cell_type": "code",
   "execution_count": 47,
   "id": "392bfeeb-9c37-4730-b93b-5e6c6434e73e",
   "metadata": {},
   "outputs": [
    {
     "data": {
      "image/png": "[encoded data removed]",
      "text/plain": [
       "<Figure size 800x500 with 1 Axes>"
      ]
     },
     "metadata": {},
     "output_type": "display_data"
    }
   ],
   "source": [
    "plt.figure(figsize=(8, 5))\n",
    "plt.hist(df['MatchScore'], bins=30, color='orange', edgecolor='black')\n",
    "plt.title(\"Distribution of Resume Match Scores(BERT)\")\n",
    "plt.xlabel(\"Match Score\")\n",
    "plt.ylabel(\"Number of Resumes\")\n",
    "plt.grid(True)\n",
    "plt.show()"
   ]
  },
  {
   "cell_type": "code",
   "execution_count": 49,
   "id": "83e1ffa5-750d-412d-ba9c-7d43f11f746b",
   "metadata": {},
   "outputs": [
    {
     "name": "stdout",
     "output_type": "stream",
     "text": [
      "User IDs with MatchScore > 0.4: [1, 3, 6, 9, 11, 13, 16, 19, 21, 23, 26, 29, 31, 33, 36, 39, 432, 433, 438, 439, 444, 445, 450, 451, 512, 516, 520, 524, 528, 532, 536, 540, 544, 548, 710, 715, 721, 726, 732, 737, 742, 743, 744, 745, 748, 749, 750, 751, 752, 755, 756, 757, 758, 759, 762, 763, 764, 765, 766, 769, 770, 771, 772, 773, 776, 777, 778, 779, 780, 783, 787, 792, 797, 802, 807, 812, 817, 822]\n"
     ]
    }
   ],
   "source": [
    "# sort out the most fitted candidates by setting the threshold of 0.4\n",
    "high_score_users = df[df['MatchScore'] > 0.4].index.tolist()\n",
    "print(\"User IDs with MatchScore > 0.4:\", high_score_users)"
   ]
  },
  {
   "cell_type": "code",
   "execution_count": null,
   "id": "6964bc32-6331-4778-9a8d-586092377fe2",
   "metadata": {},
   "outputs": [],
   "source": []
  }
 ],
 "metadata": {
  "kernelspec": {
   "display_name": "Python [conda env:base] *",
   "language": "python",
   "name": "conda-base-py"
  },
  "language_info": {
   "codemirror_mode": {
    "name": "ipython",
    "version": 3
   },
   "file_extension": ".py",
   "mimetype": "text/x-python",
   "name": "python",
   "nbconvert_exporter": "python",
   "pygments_lexer": "ipython3",
   "version": "3.11.5"
  }
 },
 "nbformat": 4,
 "nbformat_minor": 5
}
